{
  "nbformat": 4,
  "nbformat_minor": 0,
  "metadata": {
    "colab": {
      "provenance": [],
      "authorship_tag": "ABX9TyPzccrWriisYe9npl/7qrSS",
      "include_colab_link": true
    },
    "kernelspec": {
      "name": "python3",
      "display_name": "Python 3"
    },
    "language_info": {
      "name": "python"
    }
  },
  "cells": [
    {
      "cell_type": "markdown",
      "metadata": {
        "id": "view-in-github",
        "colab_type": "text"
      },
      "source": [
        "<a href=\"https://colab.research.google.com/github/namhades2627/DTH235702-TongNhutNam_NOPBAI/blob/main/BaiTapChuong1_Bai3.ipynb\" target=\"_parent\"><img src=\"https://colab.research.google.com/assets/colab-badge.svg\" alt=\"Open In Colab\"/></a>"
      ]
    },
    {
      "cell_type": "code",
      "execution_count": null,
      "metadata": {
        "colab": {
          "base_uri": "https://localhost:8080/"
        },
        "id": "FaA5YgmHRVAl",
        "outputId": "c1577e21-4c0f-45ea-ae25-7b77be68f89e"
      },
      "outputs": [
        {
          "output_type": "stream",
          "name": "stdout",
          "text": [
            "Viết mã chương trình\n"
          ]
        }
      ],
      "source": [
        "print('Viết mã chương trình')"
      ]
    },
    {
      "cell_type": "code",
      "source": [
        "print('Albert Einstein đã từng nói: Một người không bao giờ mắc sai lầm không bao giờ thử bất kỳ điều gì mới.')"
      ],
      "metadata": {
        "colab": {
          "base_uri": "https://localhost:8080/"
        },
        "id": "3ncLyex4Rjsu",
        "outputId": "f4901a23-6641-4720-f7a8-461cc306c5fd"
      },
      "execution_count": null,
      "outputs": [
        {
          "output_type": "stream",
          "name": "stdout",
          "text": [
            "Albert Einstein đã từng nói: Một người không bao giờ mắc sai lầm không bao giờ thử bất kỳ điều gì mới.\n"
          ]
        }
      ]
    },
    {
      "cell_type": "code",
      "source": [
        "import math\n",
        "import os\n",
        "def add(a, b):\n",
        "  result = a + b\n",
        "  return result"
      ],
      "metadata": {
        "id": "uOf2wTc3SRzY"
      },
      "execution_count": null,
      "outputs": []
    },
    {
      "cell_type": "code",
      "source": [
        "# module1.py\n",
        "question1 = 'What is the meaning of life, the Universe and Everything?'\n",
        "answer1 = 42\n",
        "\n",
        "#module2.py\n",
        "question2 = 'What is your quest?'\n",
        "answer2 = 'To seek the holy grail.'\n",
        "\n",
        "print(question1)\n",
        "print(question2)\n",
        "print(answer1)\n",
        "print(answer2)"
      ],
      "metadata": {
        "colab": {
          "base_uri": "https://localhost:8080/"
        },
        "id": "zD_xWWz-TjeS",
        "outputId": "ba2b6a81-1eee-4344-aca4-462c5ca74b7b"
      },
      "execution_count": null,
      "outputs": [
        {
          "output_type": "stream",
          "name": "stdout",
          "text": [
            "What is the meaning of life, the Universe and Everything?\n",
            "What is your quest?\n",
            "42\n",
            "To seek the holy grail.\n"
          ]
        }
      ]
    },
    {
      "cell_type": "code",
      "source": [
        "# Cau 4\n",
        "print('Chao cac ban!')"
      ],
      "metadata": {
        "id": "db8asBXrUkIC",
        "colab": {
          "base_uri": "https://localhost:8080/"
        },
        "outputId": "610035f2-9fbd-4b60-ee4b-fda2b7a5504b"
      },
      "execution_count": null,
      "outputs": [
        {
          "output_type": "stream",
          "name": "stdout",
          "text": [
            "Chao cac ban!\n"
          ]
        }
      ]
    },
    {
      "cell_type": "code",
      "source": [
        "# Cau 5\n",
        "print('Tong Nhut Nam')"
      ],
      "metadata": {
        "colab": {
          "base_uri": "https://localhost:8080/"
        },
        "id": "Ww0bdeAbZZV7",
        "outputId": "b6c67d19-f11a-4b48-fd4a-a81eeafb952e"
      },
      "execution_count": null,
      "outputs": [
        {
          "output_type": "stream",
          "name": "stdout",
          "text": [
            "Tong Nhut Nam\n"
          ]
        }
      ]
    },
    {
      "cell_type": "code",
      "source": [
        "# Viet chuong trinh in ra man hinh bai tho sau:\n",
        "Mình về mình có nhớ ta\n",
        "Mười lăm năm ấy thiết tha mặn nồng.\n",
        "Mình về mình có nhớ không?\n",
        "Nhìn cây nhớ núi, nhìn sông nhớ nguồn."
      ],
      "metadata": {
        "id": "Ji9oTzpjZqOm"
      },
      "execution_count": null,
      "outputs": []
    }
  ]
}